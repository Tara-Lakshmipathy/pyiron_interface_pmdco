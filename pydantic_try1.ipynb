{
 "cells": [
  {
   "cell_type": "code",
   "execution_count": 1,
   "id": "8d18edc8-917c-4e59-96ad-3174c553cfe2",
   "metadata": {},
   "outputs": [],
   "source": [
    "from pyiron_workflow import Workflow, as_function_node, as_macro_node, as_dataclass_node\n",
    "from pyiron_workflow.node import Node\n",
    "from pyiron_workflow.nodes.function import Function\n",
    "from pyiron_workflow.nodes.composite import Composite\n",
    "from dataclasses import dataclass, is_dataclass, fields, field\n",
    "from semantikon.typing import u\n",
    "from semantikon.converter import semantikon_class, parse_input_args, parse_output_args, parse_metadata, meta_to_dict\n",
    "from owlready2 import *\n",
    "from pprint import pprint\n",
    "from rdflib import Graph, Namespace, URIRef, BNode\n",
    "from rdflib import Literal as rdfLit\n",
    "import graphviz\n",
    "from rdflib.namespace import RDF, RDFS\n",
    "import random\n",
    "from bfo import visualize\n",
    "import numpy as np\n",
    "from typing import Optional, Callable\n",
    "from pydantic import BaseModel, Field"
   ]
  },
  {
   "cell_type": "code",
   "execution_count": 2,
   "id": "fe6fe278-3b43-49df-bf0d-7edd85307736",
   "metadata": {},
   "outputs": [
    {
     "name": "stdout",
     "output_type": "stream",
     "text": [
      "http://purl.obolibrary.org/obo/\n",
      "https://w3id.org/pmd/co/\n"
     ]
    }
   ],
   "source": [
    "onto_path.append(\"/mnt/e/pyiron/pmdco_interface/main/pyiron_interface_pmdco/core-ontology-main_20250623/core-ontology-main\")\n",
    "pmdco = get_ontology(\"/mnt/e/pyiron/pmdco_interface/main/pyiron_interface_pmdco/core-ontology-main_20250623/core-ontology-main/pmdco.owl\").load()\n",
    "\n",
    "base_iris = set()\n",
    "for cls in pmdco.classes():\n",
    "    iri = cls.iri\n",
    "    # Trim to last slash or hash\n",
    "    if \"#\" in iri:\n",
    "        base = iri[:iri.rfind(\"#\")+1]\n",
    "    else:\n",
    "        base = iri[:iri.rfind(\"/\")+1]\n",
    "    base_iris.add(base)\n",
    "    \n",
    "for base in base_iris:\n",
    "    print(base)\n",
    "\n",
    "obo = pmdco.get_namespace(\"http://purl.obolibrary.org/obo/\")\n",
    "pmdco = pmdco.get_namespace(\"https://w3id.org/pmd/co/\")"
   ]
  },
  {
   "cell_type": "code",
   "execution_count": 3,
   "id": "4dcb397e-f04c-43e1-9cc2-8ec5139b87c4",
   "metadata": {},
   "outputs": [],
   "source": [
    "@semantikon_class\n",
    "@dataclass\n",
    "class AtomisticSampleSimulationCell:\n",
    "    simulation_cell_lengths: u(str, units=\"ANGSTROM\", bfo_prop=obo[\"BFO_0000178\"], bfo_type=obo[\"OBI_0001933\"]) = None\n",
    "    simulation_cell_vectors: u(str, units=\"ANGSTROM\", bfo_prop=obo[\"BFO_0000178\"], bfo_type=obo[\"OBI_0001933\"]) = None\n",
    "    simulation_cell_angles: u(str, units=\"DEGREES\", bfo_prop=obo[\"BFO_0000178\"], bfo_type=obo[\"OBI_0001933\"]) = None\n",
    "    simulation_cell_volume: u(float, units=\"ANGSTROM3\", bfo_prop=obo[\"BFO_0000178\"], bfo_type=obo[\"OBI_0001933\"]) = None\n",
    "\n",
    "@semantikon_class\n",
    "@dataclass\n",
    "class AtomisticSampleChemicalSpecies: \n",
    "    atoms: u(Callable, bfo_prop=obo[\"BFO_0000178\"], bfo_type=obo[\"OBI_0001933\"]) = None\n",
    "\n",
    "@semantikon_class\n",
    "@dataclass\n",
    "class AtomisticSampleUnitCell:\n",
    "    lattice_parameter_a: u(float, units=\"ANGSTROM\", bfo_prop=obo[\"BFO_0000178\"], bfo_type=obo[\"OBI_0001933\"]) = None\n",
    "    lattice_parameter_b: u(float, units=\"ANGSTROM\", bfo_prop=obo[\"BFO_0000178\"], bfo_type=obo[\"OBI_0001933\"]) = None\n",
    "    lattice_parameter_c: u(float, units=\"ANGSTROM\", bfo_prop=obo[\"BFO_0000178\"], bfo_type=obo[\"OBI_0001933\"]) = None\n",
    "    lattice_angle_alpha: u(float, units=\"DEGREES\", bfo_prop=obo[\"BFO_0000178\"], bfo_type=obo[\"OBI_0001933\"]) = None\n",
    "    lattice_angle_beta: u(float, units=\"DEGREES\", bfo_prop=obo[\"BFO_0000178\"], bfo_type=obo[\"OBI_0001933\"]) = None\n",
    "    lattice_angle_gamma: u(float, units=\"DEGREES\", bfo_prop=obo[\"BFO_0000178\"], bfo_type=obo[\"OBI_0001933\"]) = None\n",
    "    lattice_volume: u(float, units=\"ANGSTROM3\", bfo_prop=obo[\"BFO_0000178\"], bfo_type=obo[\"OBI_0001933\"]) = None\n",
    "\n",
    "@semantikon_class\n",
    "@dataclass\n",
    "class AtomisticSampleSPGLibAnalysis:\n",
    "    space_group: u(str, bfo_prop=obo[\"BFO_0000178\"], bfo_type=obo[\"OBI_0001933\"]) = None\n",
    "    bravais_lattice: u(str, bfo_prop=obo[\"BFO_0000178\"], bfo_type=obo[\"OBI_0001933\"]) = None\n",
    "    analysis_precision: u(float, units=\"ANGSTROM\", bfo_prop=obo[\"BFO_0000178\"], bfo_type=obo[\"OBI_0001933\"]) = None\n",
    "    analysis_libraray_name: u(str, bfo_prop=obo[\"BFO_0000178\"], bfo_type=obo[\"OBI_0001933\"]) = None\n",
    "\n",
    "@semantikon_class\n",
    "@dataclass\n",
    "class AtomisticSample():\n",
    "    simulation_cell: u(AtomisticSampleSimulationCell, bfo_prop=obo[\"BFO_0000178\"], bfo_type=obo[\"IAO_0000027\"])\n",
    "    chemical_species: u(AtomisticSampleChemicalSpecies, bfo_prop=obo[\"BFO_0000178\"], bfo_type=obo[\"IAO_0000027\"])\n",
    "    unit_cell: u(AtomisticSampleUnitCell, bfo_prop=obo[\"BFO_0000178\"], bfo_type=obo[\"IAO_0000027\"])\n",
    "    crystal_defect: u(list, bfo_prop=obo[\"BFO_0000178\"], bfo_type=obo[\"IAO_0000027\"]) = field(default_factory=lambda: []) \n",
    "    analysis: u(list, bfo_prop=obo[\"BFO_0000178\"], bfo_type=obo[\"IAO_0000027\"]) = field(default_factory=lambda: [])"
   ]
  },
  {
   "cell_type": "code",
   "execution_count": 4,
   "id": "c239c97d-4398-489a-8a8e-e874576744bd",
   "metadata": {},
   "outputs": [],
   "source": [
    "class SimulationCellComponent(BaseModel):\n",
    "    value: str | float | None = None\n",
    "    bfo_prop: str\n",
    "    bfo_type: str\n",
    "\n",
    "class PydanticAtomisticSampleSimulationCell(BaseModel):\n",
    "    simulation_cell_lengths: SimulationCellComponent\n",
    "    simulation_cell_vectors: SimulationCellComponent\n",
    "    simulation_cell_angles: SimulationCellComponent\n",
    "    simulation_cell_volume: SimulationCellComponent\n",
    "\n",
    "cell = PydanticAtomisticSampleSimulationCell(\n",
    "    simulation_cell_lengths={\n",
    "        \"bfo_prop\": \"BFO_0000178\",\n",
    "        \"bfo_type\": \"OBI_0001933\",\n",
    "    },\n",
    "    simulation_cell_vectors={\n",
    "        \"bfo_prop\": \"BFO_0000178\",\n",
    "        \"bfo_type\": \"OBI_0001933\",\n",
    "    },\n",
    "    simulation_cell_angles={\n",
    "        \"bfo_prop\": \"BFO_0000178\",\n",
    "        \"bfo_type\": \"OBI_0001933\",\n",
    "    },\n",
    "    simulation_cell_volume={\n",
    "        \"bfo_prop\": \"BFO_0000178\",\n",
    "        \"bfo_type\": \"OBI_0001933\",\n",
    "    },\n",
    ")"
   ]
  },
  {
   "cell_type": "code",
   "execution_count": 5,
   "id": "503fa39f-c297-4da6-ba6d-4590ecb67f17",
   "metadata": {},
   "outputs": [
    {
     "data": {
      "text/plain": [
       "{'simulation_cell_lengths': {'value': None,\n",
       "  'bfo_prop': 'BFO_0000178',\n",
       "  'bfo_type': 'OBI_0001933'},\n",
       " 'simulation_cell_vectors': {'value': None,\n",
       "  'bfo_prop': 'BFO_0000178',\n",
       "  'bfo_type': 'OBI_0001933'},\n",
       " 'simulation_cell_angles': {'value': None,\n",
       "  'bfo_prop': 'BFO_0000178',\n",
       "  'bfo_type': 'OBI_0001933'},\n",
       " 'simulation_cell_volume': {'value': None,\n",
       "  'bfo_prop': 'BFO_0000178',\n",
       "  'bfo_type': 'OBI_0001933'}}"
      ]
     },
     "execution_count": 5,
     "metadata": {},
     "output_type": "execute_result"
    }
   ],
   "source": [
    "cell.model_dump()"
   ]
  },
  {
   "cell_type": "code",
   "execution_count": 6,
   "id": "0c8a2e42-dbd9-4e32-9494-4cbfa96719ef",
   "metadata": {},
   "outputs": [],
   "source": [
    "class PydanticFieldsAtomisticSampleSimulationCell(BaseModel):\n",
    "    simulation_cell_lengths: str | None = Field(\n",
    "        None, bfo_prop=\"BFO_0000178\", bfo_type=\"OBI_0001933\"\n",
    "    )\n",
    "    simulation_cell_vectors: str | None = Field(\n",
    "        None, bfo_prop=\"BFO_0000178\", bfo_type=\"OBI_0001933\"\n",
    "    )\n",
    "    simulation_cell_angles: str | None = Field(\n",
    "        None, bfo_prop=\"BFO_0000178\", bfo_type=\"OBI_0001933\"\n",
    "    )\n",
    "    simulation_cell_volume: float | None = Field(\n",
    "        None, bfo_prop=\"BFO_0000178\", bfo_type=\"OBI_0001933\"\n",
    "    )"
   ]
  },
  {
   "cell_type": "code",
   "execution_count": 7,
   "id": "392d2c12-c8a4-4b6b-8cad-0400160b977c",
   "metadata": {},
   "outputs": [
    {
     "data": {
      "text/plain": [
       "{'simulation_cell_lengths': '[1.0,0.0,0.0][0.0,1.0,0.0][0.0,0.0,1.0]',\n",
       " 'simulation_cell_vectors': None,\n",
       " 'simulation_cell_angles': None,\n",
       " 'simulation_cell_volume': None}"
      ]
     },
     "execution_count": 7,
     "metadata": {},
     "output_type": "execute_result"
    }
   ],
   "source": [
    "cell_1 = PydanticFieldsAtomisticSampleSimulationCell(simulation_cell_lengths=\"[1.0,0.0,0.0][0.0,1.0,0.0][0.0,0.0,1.0]\")\n",
    "cell_1.model_dump()"
   ]
  },
  {
   "cell_type": "code",
   "execution_count": 8,
   "id": "cb8534fb-d0d0-46a6-b6fe-b1dd8db1b994",
   "metadata": {},
   "outputs": [
    {
     "data": {
      "text/plain": [
       "{'properties': {'simulation_cell_lengths': {'anyOf': [{'type': 'string'},\n",
       "    {'type': 'null'}],\n",
       "   'bfo_prop': 'BFO_0000178',\n",
       "   'bfo_type': 'OBI_0001933',\n",
       "   'default': None,\n",
       "   'title': 'Simulation Cell Lengths'},\n",
       "  'simulation_cell_vectors': {'anyOf': [{'type': 'string'}, {'type': 'null'}],\n",
       "   'bfo_prop': 'BFO_0000178',\n",
       "   'bfo_type': 'OBI_0001933',\n",
       "   'default': None,\n",
       "   'title': 'Simulation Cell Vectors'},\n",
       "  'simulation_cell_angles': {'anyOf': [{'type': 'string'}, {'type': 'null'}],\n",
       "   'bfo_prop': 'BFO_0000178',\n",
       "   'bfo_type': 'OBI_0001933',\n",
       "   'default': None,\n",
       "   'title': 'Simulation Cell Angles'},\n",
       "  'simulation_cell_volume': {'anyOf': [{'type': 'number'}, {'type': 'null'}],\n",
       "   'bfo_prop': 'BFO_0000178',\n",
       "   'bfo_type': 'OBI_0001933',\n",
       "   'default': None,\n",
       "   'title': 'Simulation Cell Volume'}},\n",
       " 'title': 'PydanticFieldsAtomisticSampleSimulationCell',\n",
       " 'type': 'object'}"
      ]
     },
     "execution_count": 8,
     "metadata": {},
     "output_type": "execute_result"
    }
   ],
   "source": [
    "cell_1.model_json_schema()"
   ]
  },
  {
   "cell_type": "code",
   "execution_count": null,
   "id": "fea4cd0e-18fd-46d4-bb89-2deeedfa2093",
   "metadata": {},
   "outputs": [],
   "source": []
  }
 ],
 "metadata": {
  "kernelspec": {
   "display_name": "Python 3 (ipykernel)",
   "language": "python",
   "name": "python3"
  },
  "language_info": {
   "codemirror_mode": {
    "name": "ipython",
    "version": 3
   },
   "file_extension": ".py",
   "mimetype": "text/x-python",
   "name": "python",
   "nbconvert_exporter": "python",
   "pygments_lexer": "ipython3",
   "version": "3.12.7"
  }
 },
 "nbformat": 4,
 "nbformat_minor": 5
}
